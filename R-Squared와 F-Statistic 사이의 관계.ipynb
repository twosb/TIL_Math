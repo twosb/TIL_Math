{
 "cells": [
  {
   "cell_type": "markdown",
   "metadata": {},
   "source": [
    "### R-Squared(결정계수) & F 검정 통계량(F-Statistic)은 어떤 관계?"
   ]
  },
  {
   "cell_type": "markdown",
   "metadata": {},
   "source": [
    "[여기](http://statart.tistory.com/37)에 관련 내용이 있긴 하다. 하지만 그냥 그래프만 보는게 이해가 더 쉬울 것 같아 가져와봤다!\n",
    "> 그림 출처 : [The Minitab Blog](https://stats.stackexchange.com/questions/96483/is-it-possible-to-get-a-negative-f-statistic-e-g-in-anova/96485)"
   ]
  },
  {
   "cell_type": "markdown",
   "metadata": {},
   "source": [
    "![flp_highvar](https://user-images.githubusercontent.com/37604501/42137795-baaf5454-7dad-11e8-86c1-05e22ef23633.png)\n",
    "> [R^2 값은 작고 ▼, F-Statistic 값은 크다 ▲]\n",
    "\n",
    "해석은 다음과 같다.\n",
    "- 독립변수 X(Input)가 종속변수 Y(Output1)에 끼치는 영향은 **의미가 없다**.\n",
    "- 데이터들을 그래프에 뿌려 추정한 회귀식 신뢰도 또한 **낮다**. 각 데이터들의 **분산**이 너무 커 제대로 된 예측을 할 수 없기 때문이다."
   ]
  },
  {
   "cell_type": "markdown",
   "metadata": {},
   "source": [
    "![flp_lowvar](https://user-images.githubusercontent.com/37604501/42137796-bad501c2-7dad-11e8-8f4d-739f8d3c418f.png)\n",
    "\n",
    "> [R^2 값은 크고 ▲, F-Statistic 값은 작다 ▼]\n",
    "\n",
    "해석은 정확히 반대로 해주면 되겠다. 독립변수 X가 종속변수 Y에 미치는 영향도 크고, 추정 회귀식 신뢰도도 높다."
   ]
  },
  {
   "cell_type": "markdown",
   "metadata": {},
   "source": [
    "### 결론 :\n",
    "\n",
    "R^2와 F-Statistic은 두 값 모두 추정한 모형이 **적절한지** 알려주지만,\n",
    "\n",
    "**R^2**는 데이터들이 저 빨간 회귀 직선에서 각 각 얼마나 떨어져 있는지 분산을 더한 값들을 토대로 어떠한 계산을 한 결과가\n",
    "- 값이 크면 ☞ 예측 정확함\n",
    "- 값이 작으면 ☞ 예측 부정확함\n",
    "\n",
    "**F-Statistic**은 데이터를 모아보니 선형이 잘 되는가? 를 따져보아\n",
    "- 값이 크면 ☞ 선형이 잘 안그려짐\n",
    "- 값이 작으면 ☞ 선형이 잘 그려짐\n",
    "\n",
    "R^2는 0과 1사이의 값이고, F-Statistic은 0부터 양의 무한대 값이다."
   ]
  }
 ],
 "metadata": {
  "kernelspec": {
   "display_name": "Python 3",
   "language": "python",
   "name": "python3"
  },
  "language_info": {
   "codemirror_mode": {
    "name": "ipython",
    "version": 3
   },
   "file_extension": ".py",
   "mimetype": "text/x-python",
   "name": "python",
   "nbconvert_exporter": "python",
   "pygments_lexer": "ipython3",
   "version": "3.6.5"
  }
 },
 "nbformat": 4,
 "nbformat_minor": 2
}
